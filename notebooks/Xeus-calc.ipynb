{
 "cells": [
  {
   "cell_type": "markdown",
   "metadata": {},
   "source": [
    "# Xeus-calc \n",
    "\n",
    "Xeus-calc is the implementation of a calculator as a jupyter kernel through Xeus.\n",
    "\n",
    "The calculator's implementation is based on the **Reverse Polish Notation** (RPN), also known as **postfix notation**, to understand the order of operations of any mathematical expression.\n",
    "\n",
    "**RPN** is a mathematical notation in which operators follow their operands, thus showing the priority order and removing brackets.\n",
    "Therefore, the mathematical expression is first parsed to turn it into RPN and is then treated as such to do the computation. \n",
    "\n",
    "All of that is shown through the various displays when you run the cells.\n",
    "\n",
    "For a quick example of RPN : \n",
    "\n",
    "12 + 3 * (43 + 2)\n",
    "\n",
    "turns into :\n",
    "\n",
    "43 2 + 3 * 12 +"
   ]
  },
  {
   "cell_type": "markdown",
   "metadata": {},
   "source": [
    "### Addition\n",
    "\n",
    "Mathematical expression including a simple addition between two numbers"
   ]
  },
  {
   "cell_type": "code",
   "execution_count": null,
   "metadata": {},
   "outputs": [],
   "source": [
    "12+3"
   ]
  },
  {
   "cell_type": "markdown",
   "metadata": {},
   "source": [
    "### Multiplication\n",
    "\n",
    "Mathematical expression including a simple multiplication between two numbers"
   ]
  },
  {
   "cell_type": "code",
   "execution_count": null,
   "metadata": {},
   "outputs": [],
   "source": [
    "5*7"
   ]
  },
  {
   "cell_type": "markdown",
   "metadata": {},
   "source": [
    "### Priority in operation\n",
    "\n",
    "Mathematical expression including several operations treated in the right order"
   ]
  },
  {
   "cell_type": "code",
   "execution_count": null,
   "metadata": {},
   "outputs": [],
   "source": [
    "3+5*4/2-1"
   ]
  },
  {
   "cell_type": "markdown",
   "metadata": {},
   "source": [
    "### Brackets\n",
    "\n",
    "Mathematical expression inculding brackets"
   ]
  },
  {
   "cell_type": "code",
   "execution_count": null,
   "metadata": {},
   "outputs": [],
   "source": [
    "3*(5+3)"
   ]
  },
  {
   "cell_type": "markdown",
   "metadata": {},
   "source": [
    "### Power\n",
    "\n",
    "Mathematical expression including powers"
   ]
  },
  {
   "cell_type": "code",
   "execution_count": null,
   "metadata": {},
   "outputs": [],
   "source": [
    "(5+3)^2"
   ]
  },
  {
   "cell_type": "markdown",
   "metadata": {},
   "source": [
    "### Complex expression\n",
    "\n",
    "Mathematical expression including a lot of different operations and random spaces"
   ]
  },
  {
   "cell_type": "code",
   "execution_count": null,
   "metadata": {},
   "outputs": [],
   "source": [
    "14 + 2* (3+ 2) /2^ 2-3 +16"
   ]
  }
 ],
 "metadata": {
  "kernelspec": {
   "display_name": "xeus-calc",
   "language": "python",
   "name": "xeus-calc"
  },
  "language_info": {
   "file_extension": "",
   "mimetype": "",
   "name": "calc",
   "version": ""
  }
 },
 "nbformat": 4,
 "nbformat_minor": 2
}
